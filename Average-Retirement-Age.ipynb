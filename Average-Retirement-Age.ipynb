{
 "cells": [
  {
   "cell_type": "code",
   "execution_count": 93,
   "metadata": {},
   "outputs": [],
   "source": [
    "import findspark\n",
    "\n",
    "findspark.init()\n",
    "from pyspark.sql import SparkSession\n",
    "from pyspark.conf import SparkConf\n",
    "from pyspark.sql.functions import year, col, concat, lit"
   ]
  },
  {
   "cell_type": "code",
   "execution_count": 94,
   "metadata": {},
   "outputs": [],
   "source": [
    "spark = SparkSession.builder.master(\"local[*]\").appName(\"join\").getOrCreate()"
   ]
  },
  {
   "cell_type": "code",
   "execution_count": 95,
   "metadata": {},
   "outputs": [],
   "source": [
    "drivers_df = spark.read.csv(\"dataset/drivers.csv\", header=True, inferSchema=True)\n",
    "standings_df = spark.read.csv(\"dataset/driver_standings.csv\", header=True, inferSchema=True)\n",
    "races_df = spark.read.csv(\"dataset/races.csv\", header=True, inferSchema=True)"
   ]
  },
  {
   "cell_type": "code",
   "execution_count": 96,
   "metadata": {},
   "outputs": [
    {
     "data": {
      "text/plain": [
       "36.00481540930979"
      ]
     },
     "execution_count": 96,
     "metadata": {},
     "output_type": "execute_result"
    }
   ],
   "source": [
    "joined_df = (\n",
    "    drivers_df[[\"driverId\", \"dob\", \"forename\", \"surname\", \"nationality\"]]\n",
    "    .withColumn(\"dob\", year(\"dob\"))\n",
    "    .withColumn(\"name\", concat(col(\"forename\"), lit(\" \"), col(\"surname\")))\n",
    "    .drop(\"forename\")\n",
    "    .drop(\"surname\")\n",
    "    .join(standings_df[[\"raceId\", \"driverId\"]], on=[\"driverId\"])\n",
    "    .join(races_df[[\"raceId\", \"year\"]], on=[\"raceId\"])\n",
    "    .filter(races_df[\"year\"] <= 2020)\n",
    "    .rdd.map(lambda x: (x[\"driverId\"], x))\n",
    "    .sortByKey()\n",
    "    .map(lambda kv: (kv[0], (kv[1][\"year\"], kv[1][\"dob\"])))\n",
    "    .reduceByKey(lambda x, y: max(x, y))\n",
    "    .map(lambda kv: (kv[0], kv[1][0] - kv[1][1]))\n",
    "    .filter(lambda x: x[1] >= 29)\n",
    "    .map(lambda x: (x[1], 1))\n",
    "    .reduce(lambda x, y: (x[0] + y[0], x[1] + y[1]))\n",
    ")\n",
    "joined_df[0] / joined_df[1]"
   ]
  }
 ],
 "metadata": {
  "kernelspec": {
   "display_name": "fecu",
   "language": "python",
   "name": "python3"
  },
  "language_info": {
   "codemirror_mode": {
    "name": "ipython",
    "version": 3
   },
   "file_extension": ".py",
   "mimetype": "text/x-python",
   "name": "python",
   "nbconvert_exporter": "python",
   "pygments_lexer": "ipython3",
   "version": "3.8.16"
  },
  "orig_nbformat": 4
 },
 "nbformat": 4,
 "nbformat_minor": 2
}
